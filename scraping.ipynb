{
 "cells": [
  {
   "cell_type": "code",
   "execution_count": 1,
   "id": "d8e76771-8eb5-4bfa-8341-76f6fc7c1d23",
   "metadata": {},
   "outputs": [],
   "source": [
    "import time\n",
    "import pandas as pd\n",
    "\n",
    "from selenium import webdriver\n",
    "from selenium.webdriver.common.by import By\n",
    "from selenium.webdriver.chrome.service import Service as ChromeService\n",
    "from webdriver_manager.chrome import ChromeDriverManager"
   ]
  },
  {
   "cell_type": "code",
   "execution_count": 2,
   "id": "4d371994-4b92-4acc-b976-ff737991c062",
   "metadata": {},
   "outputs": [],
   "source": [
    "book_dict = {}\n",
    "results = []\n",
    "url = \"https://www.goodreads.com/user/sign_in\"\n",
    "url2 = \"https://www.goodreads.com/list/show/1.Best_Books_Ever\"\n",
    "#url3 = \"https://www.goodreads.com/list/show/155086.Popular_Kindle_Notes_Highlights_on_Goodreads\"\n",
    "#email = \"elisa.hamedi@yahoo.com\"\n",
    "#mdp = \"MiraHmd2512\""
   ]
  },
  {
   "cell_type": "code",
   "execution_count": 3,
   "id": "e0f7fa3d-08e7-4947-89fd-c67dc11cfeba",
   "metadata": {
    "tags": []
   },
   "outputs": [],
   "source": [
    "driver = webdriver.Chrome(service=ChromeService(executable_path=ChromeDriverManager().install()))\n",
    "#driver.get('https://www.goodreads.com/list/show/155086.Popular_Kindle_Notes_Highlights_on_Goodreads')\n",
    "time.sleep(5)"
   ]
  },
  {
   "cell_type": "code",
   "execution_count": 4,
   "id": "590517f3-e84c-4526-9843-4fa15b55a74c",
   "metadata": {
    "jupyter": {
     "source_hidden": true
    },
    "tags": []
   },
   "outputs": [],
   "source": [
    "#Pour cliquer Search Books mais finalement ca permet de rechercher sur la barre de recherche\n",
    "    # Navigate to url\n",
    "#driver.get(\"http://www.google.com\")\n",
    "# Entrer \"Search Books\" et taper entrer\n",
    "#driver.find_element(By.NAME, \"q\").send_keys(\"webdriver\" + Keys.ENTER)\n",
    "#ou autre solution pour ecrire ce que l'on veux et entrer\n",
    "#driver.findElement(By.name(\"q\")).sendKeys(\"q\" + Keys.ENTER);\n",
    "#j'ai une solution autre = on doit cliquer sur Browse et puis recliquer sur par exemple\n",
    "#\"Biography\" ensuite selectionner sur la ou il y'a le plus de livres pour prendre chaque informations"
   ]
  },
  {
   "cell_type": "code",
   "execution_count": 5,
   "id": "6412430f-ecc4-49c0-99c7-664d1f33d2ea",
   "metadata": {
    "jupyter": {
     "source_hidden": true
    },
    "tags": []
   },
   "outputs": [],
   "source": [
    "#test = driver.find_element(By.XPATH, \"//*[@id='choices']/div/a[2]/button\")\n",
    "#test.click()\n",
    "#time.sleep(5)"
   ]
  },
  {
   "cell_type": "code",
   "execution_count": 6,
   "id": "3a345f8a-5597-4856-b3eb-a00654b8b8c4",
   "metadata": {
    "jupyter": {
     "source_hidden": true
    },
    "tags": []
   },
   "outputs": [],
   "source": [
    "#driver.find_element(By.XPATH, \"//*[@id='ap_email']\").send_keys(email)\n",
    "#driver.find_element(By.XPATH, \"//*[@id='ap_password']\").send_keys(mdp)\n",
    "#driver.find_element(By.XPATH, \"//*[@id='signInSubmit']\").click()"
   ]
  },
  {
   "cell_type": "code",
   "execution_count": 7,
   "id": "a58405a2-e6fe-4be3-9c1c-5143b81b06ef",
   "metadata": {
    "tags": []
   },
   "outputs": [],
   "source": [
    "#driver.find_element(By.XPATH,'/html/body/div[2]/div/header/div[3]/div/nav/ul/li[3]/div/a').click()"
   ]
  },
  {
   "cell_type": "code",
   "execution_count": 8,
   "id": "27bdfd24-edc0-4c39-82a0-cdc14473cd6a",
   "metadata": {
    "tags": []
   },
   "outputs": [],
   "source": [
    "driver.get('https://www.goodreads.com/list/show/155086.Popular_Kindle_Notes_Highlights_on_Goodreads')"
   ]
  },
  {
   "cell_type": "code",
   "execution_count": 10,
   "id": "7181da0e-eee6-4961-9dbc-1c7854371f36",
   "metadata": {
    "tags": []
   },
   "outputs": [],
   "source": [
    "# Permet de récupérer le nombre de livres présent sur une page dans l'objectif de faire une boucle dessus\n",
    "list_book = driver.find_elements(By.CLASS_NAME, \"bookTitle\")\n",
    "\n",
    "for i in range(len(list_book)):\n",
    "    time.sleep(3)\n",
    "    try:\n",
    "        driver.find_element(By.XPATH, \"/html/body/div[3]/div/div/div[1]/button\").click()\n",
    "    except:\n",
    "        try:\n",
    "            driver.find_element(By.XPATH, \"/html/body/div[3]/div/div[1]/div/div/button\").click()\n",
    "        except:\n",
    "            pass\n",
    "   \n",
    "    driver.find_element(By.XPATH,'/html/body/div[2]/div[3]/div[1]/div[2]/div[3]/div[6]/table/tbody/tr['+ str(i+1) +']/td[3]/a').click()\n",
    "    \n",
    "    time.sleep(3)\n",
    "    try:\n",
    "        driver.find_element(By.XPATH, \"/html/body/div[3]/div/div/div[1]/button\").click()\n",
    "    except:\n",
    "        try:\n",
    "            driver.find_element(By.XPATH, \"/html/body/div[3]/div/div[1]/div/div/button\").click()\n",
    "        except:\n",
    "            pass\n",
    "        \n",
    "        \n",
    "    try: \n",
    "        nom = driver.find_element(By.XPATH, '//*[@id=\"bookTitle\"]').text\n",
    "    except:\n",
    "        try : \n",
    "            nom = driver.find_element(By.XPATH, \"//*[@id='__next']/div/main/div[1]/div[2]/div[2]/div[1]/div/h1\").text\n",
    "        except :\n",
    "            nom = driver.find_element(By.XPATH, \"//*[@id='__next']/div/main/div[1]/div[2]/div[1]/div[1]/div[1]/h1\").text\n",
    "    print(nom)\n",
    "    \n",
    "    auteur = driver.find_element(By.XPATH, '//*[@id=\"bookAuthors\"]/span[2]/div/a/span').text\n",
    "    rating = driver.find_element(By.XPATH, '//*[@id=\"bookMeta\"]/span[2]').text\n",
    "    nbrrating = driver.find_element(By.XPATH, '//*[@id=\"bookMeta\"]/span[2]').text\n",
    "    description = driver.find_element(By.XPATH, '//*[@id=\"description\"]').text\n",
    "    nbrpage = driver.find_element(By.XPATH, '//*[@id=\"details\"]/div[1]/span[2]').text\n",
    "    datepublication = driver.find_element(By.XPATH, '//*[@id=\"details\"]/div[2]').text\n",
    "    isbn = driver.find_element(By.XPATH, '/html/body/div[2]/div[3]/div[1]/div[2]/div[2]/div[1]/div[2]/div[5]/div[3]/div[1]/div[2]/div[2]').text\n",
    "    editionlangage = driver.find_element(By.XPATH, '//*[@id=\"bookDataBox\"]/div[3]/div[2]').text\n",
    "    nbrreview = driver.find_element(By.XPATH, '//*[@id=\"bookMeta\"]/a[3]').text\n",
    "    #genre = driver.find_element(By.XPATH, '/html/body/div[2]/div[3]/div[1]/div[2]/div[3]/div[6]/div/div[2]/div').text\n",
    "    #print(genre)\n",
    "    \n",
    "    book_dict[\"Title\"] = nom\n",
    "    book_dict[\"Author\"] = auteur\n",
    "    book_dict[\"Rating\"] = rating\n",
    "    book_dict[\"NbRating\"] = nbrrating\n",
    "    book_dict[\"Description\"] = description\n",
    "    book_dict[\"NbPage\"] = nbrpage\n",
    "    book_dict[\"DatePub\"] = datepublication\n",
    "    book_dict[\"ISBN\"] = isbn\n",
    "    book_dict[\"EdiLang\"] = editionlangage\n",
    "    book_dict[\"NbRev\"] = nbrreview\n",
    "                \n",
    "    results.append(book_dict)\n",
    "    driver.back()\n",
    "#pour passer d'une page à une autre\n",
    "#faut récuperer chaque informations* dans chaque livres avec :\n",
    "\n",
    "#**Informations suivantes : Le titre du livre, l'auteur, le résumé du livre ... en gros pratiquement toute la page du livre\n",
    "\n",
    "#driver.findElementsByClassName(\"className\");       /// \n",
    "#driver.findElementsByCssSelector(\".className\");\n",
    "#driver.findElementsById(\"elementId\");\n",
    "#driver.findElementsByLinkText(\"linkText\");\n",
    "#driver.findElementsByName(\"elementName\");\n",
    "#driver.findElementsByPartialLinkText(\"partialText\");\n",
    "#driver.findElementsByTagName(\"elementTagName\");\n",
    "#driver.findElementsByXPath(\"xPath\");\n"
   ]
  },
  {
   "cell_type": "code",
   "execution_count": null,
   "id": "ffbe5c32-9c08-4ae8-b730-88bbd7dd7349",
   "metadata": {
    "tags": []
   },
   "outputs": [],
   "source": [
    "results"
   ]
  },
  {
   "cell_type": "code",
   "execution_count": null,
   "id": "488dced9-b421-475c-9a21-340575da9aaf",
   "metadata": {},
   "outputs": [],
   "source": [
    "df = pd.DataFrame(results)"
   ]
  },
  {
   "cell_type": "code",
   "execution_count": 11,
   "id": "c5dec277-f5c8-4367-b440-b75ff71dfe9b",
   "metadata": {},
   "outputs": [],
   "source": [
    "driver.quit()"
   ]
  },
  {
   "cell_type": "code",
   "execution_count": null,
   "id": "11d4fada-2e94-42cd-a6c5-080c18e714e4",
   "metadata": {},
   "outputs": [],
   "source": [
    "df"
   ]
  },
  {
   "cell_type": "code",
   "execution_count": null,
   "id": "a1308709-c6b8-49bc-b401-a3563a62f763",
   "metadata": {},
   "outputs": [],
   "source": []
  }
 ],
 "metadata": {
  "kernelspec": {
   "display_name": "Python 3 (ipykernel)",
   "language": "python",
   "name": "python3"
  },
  "language_info": {
   "codemirror_mode": {
    "name": "ipython",
    "version": 3
   },
   "file_extension": ".py",
   "mimetype": "text/x-python",
   "name": "python",
   "nbconvert_exporter": "python",
   "pygments_lexer": "ipython3",
   "version": "3.9.13"
  }
 },
 "nbformat": 4,
 "nbformat_minor": 5
}
