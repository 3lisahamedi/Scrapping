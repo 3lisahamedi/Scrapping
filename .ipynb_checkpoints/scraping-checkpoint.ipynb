{
 "cells": [
  {
   "cell_type": "code",
   "execution_count": 1,
   "id": "d8e76771-8eb5-4bfa-8341-76f6fc7c1d23",
   "metadata": {},
   "outputs": [],
   "source": [
    "import time\n",
    "import pandas as pd\n",
    "\n",
    "from selenium import webdriver\n",
    "from selenium.webdriver.common.by import By\n",
    "from selenium.webdriver.chrome.service import Service as ChromeService\n",
    "from webdriver_manager.chrome import ChromeDriverManager"
   ]
  },
  {
   "cell_type": "code",
   "execution_count": 2,
   "id": "4d371994-4b92-4acc-b976-ff737991c062",
   "metadata": {},
   "outputs": [],
   "source": [
    "book_dict = {}\n",
    "results = []\n",
    "url = \"https://www.goodreads.com/user/sign_in\"\n",
    "url2 = \"https://www.goodreads.com/list/show/1.Best_Books_Ever\"\n",
    "#url3 = \"https://www.goodreads.com/list/show/155086.Popular_Kindle_Notes_Highlights_on_Goodreads\"\n",
    "#email = \"elisa.hamedi@yahoo.com\"\n",
    "#mdp = \"MiraHmd2512\""
   ]
  },
  {
   "cell_type": "code",
   "execution_count": 3,
   "id": "e0f7fa3d-08e7-4947-89fd-c67dc11cfeba",
   "metadata": {
    "tags": []
   },
   "outputs": [],
   "source": [
    "driver = webdriver.Chrome(service=ChromeService(executable_path=ChromeDriverManager().install()))\n",
    "#driver.get('https://www.goodreads.com/list/show/155086.Popular_Kindle_Notes_Highlights_on_Goodreads')\n",
    "time.sleep(5)"
   ]
  },
  {
   "cell_type": "code",
   "execution_count": 4,
   "id": "590517f3-e84c-4526-9843-4fa15b55a74c",
   "metadata": {
    "jupyter": {
     "source_hidden": true
    },
    "tags": []
   },
   "outputs": [],
   "source": [
    "#Pour cliquer Search Books mais finalement ca permet de rechercher sur la barre de recherche\n",
    "    # Navigate to url\n",
    "#driver.get(\"http://www.google.com\")\n",
    "# Entrer \"Search Books\" et taper entrer\n",
    "#driver.find_element(By.NAME, \"q\").send_keys(\"webdriver\" + Keys.ENTER)\n",
    "#ou autre solution pour ecrire ce que l'on veux et entrer\n",
    "#driver.findElement(By.name(\"q\")).sendKeys(\"q\" + Keys.ENTER);\n",
    "#j'ai une solution autre = on doit cliquer sur Browse et puis recliquer sur par exemple\n",
    "#\"Biography\" ensuite selectionner sur la ou il y'a le plus de livres pour prendre chaque informations"
   ]
  },
  {
   "cell_type": "code",
   "execution_count": 5,
   "id": "6412430f-ecc4-49c0-99c7-664d1f33d2ea",
   "metadata": {
    "jupyter": {
     "source_hidden": true
    },
    "tags": []
   },
   "outputs": [],
   "source": [
    "#test = driver.find_element(By.XPATH, \"//*[@id='choices']/div/a[2]/button\")\n",
    "#test.click()\n",
    "#time.sleep(5)"
   ]
  },
  {
   "cell_type": "code",
   "execution_count": 6,
   "id": "3a345f8a-5597-4856-b3eb-a00654b8b8c4",
   "metadata": {
    "jupyter": {
     "source_hidden": true
    },
    "tags": []
   },
   "outputs": [],
   "source": [
    "#driver.find_element(By.XPATH, \"//*[@id='ap_email']\").send_keys(email)\n",
    "#driver.find_element(By.XPATH, \"//*[@id='ap_password']\").send_keys(mdp)\n",
    "#driver.find_element(By.XPATH, \"//*[@id='signInSubmit']\").click()"
   ]
  },
  {
   "cell_type": "code",
   "execution_count": 7,
   "id": "a58405a2-e6fe-4be3-9c1c-5143b81b06ef",
   "metadata": {
    "tags": []
   },
   "outputs": [],
   "source": [
    "#driver.find_element(By.XPATH,'/html/body/div[2]/div/header/div[3]/div/nav/ul/li[3]/div/a').click()"
   ]
  },
  {
   "cell_type": "code",
   "execution_count": 8,
   "id": "27bdfd24-edc0-4c39-82a0-cdc14473cd6a",
   "metadata": {
    "tags": []
   },
   "outputs": [],
   "source": [
    "driver.get('https://www.goodreads.com/list/show/155086.Popular_Kindle_Notes_Highlights_on_Goodreads')"
   ]
  },
  {
   "cell_type": "code",
   "execution_count": 9,
   "id": "7181da0e-eee6-4961-9dbc-1c7854371f36",
   "metadata": {
    "collapsed": true,
    "jupyter": {
     "outputs_hidden": true
    },
    "tags": []
   },
   "outputs": [
    {
     "name": "stdout",
     "output_type": "stream",
     "text": [
      "Station Eleven\n",
      "Pride and Prejudice\n",
      "One for the Money\n",
      "Never Let Me Go\n",
      "American Gods\n",
      "Handcuff Secrets\n"
     ]
    },
    {
     "ename": "NoSuchElementException",
     "evalue": "Message: no such element: Unable to locate element: {\"method\":\"xpath\",\"selector\":\"//*[@id=\"details\"]/div[1]/span[2]\"}\n  (Session info: chrome=107.0.5304.107)\nStacktrace:\nBacktrace:\n\tOrdinal0 [0x0107ACD3+2075859]\n\tOrdinal0 [0x0100EE61+1633889]\n\tOrdinal0 [0x00F0B7BD+571325]\n\tOrdinal0 [0x00F3AC2F+764975]\n\tOrdinal0 [0x00F3AE1B+765467]\n\tOrdinal0 [0x00F6D0F2+970994]\n\tOrdinal0 [0x00F57364+881508]\n\tOrdinal0 [0x00F6B56A+963946]\n\tOrdinal0 [0x00F57136+880950]\n\tOrdinal0 [0x00F2FEFD+720637]\n\tOrdinal0 [0x00F30F3F+724799]\n\tGetHandleVerifier [0x0132EED2+2769538]\n\tGetHandleVerifier [0x01320D95+2711877]\n\tGetHandleVerifier [0x0110A03A+521194]\n\tGetHandleVerifier [0x01108DA0+516432]\n\tOrdinal0 [0x0101682C+1665068]\n\tOrdinal0 [0x0101B128+1683752]\n\tOrdinal0 [0x0101B215+1683989]\n\tOrdinal0 [0x01026484+1729668]\n\tBaseThreadInitThunk [0x76236939+25]\n\tRtlGetFullPathName_UEx [0x77788FD2+1218]\n\tRtlGetFullPathName_UEx [0x77788F9D+1165]\n",
     "output_type": "error",
     "traceback": [
      "\u001b[1;31m---------------------------------------------------------------------------\u001b[0m",
      "\u001b[1;31mNoSuchElementException\u001b[0m                    Traceback (most recent call last)",
      "\u001b[1;32m~\\AppData\\Local\\Temp\\ipykernel_18848\\1578807079.py\u001b[0m in \u001b[0;36m<module>\u001b[1;34m\u001b[0m\n\u001b[0;32m     37\u001b[0m     \u001b[0mnbrrating\u001b[0m \u001b[1;33m=\u001b[0m \u001b[0mdriver\u001b[0m\u001b[1;33m.\u001b[0m\u001b[0mfind_element\u001b[0m\u001b[1;33m(\u001b[0m\u001b[0mBy\u001b[0m\u001b[1;33m.\u001b[0m\u001b[0mXPATH\u001b[0m\u001b[1;33m,\u001b[0m \u001b[1;34m'//*[@id=\"bookMeta\"]/span[2]'\u001b[0m\u001b[1;33m)\u001b[0m\u001b[1;33m.\u001b[0m\u001b[0mtext\u001b[0m\u001b[1;33m\u001b[0m\u001b[1;33m\u001b[0m\u001b[0m\n\u001b[0;32m     38\u001b[0m     \u001b[0mdescription\u001b[0m \u001b[1;33m=\u001b[0m \u001b[0mdriver\u001b[0m\u001b[1;33m.\u001b[0m\u001b[0mfind_element\u001b[0m\u001b[1;33m(\u001b[0m\u001b[0mBy\u001b[0m\u001b[1;33m.\u001b[0m\u001b[0mXPATH\u001b[0m\u001b[1;33m,\u001b[0m \u001b[1;34m'//*[@id=\"description\"]'\u001b[0m\u001b[1;33m)\u001b[0m\u001b[1;33m.\u001b[0m\u001b[0mtext\u001b[0m\u001b[1;33m\u001b[0m\u001b[1;33m\u001b[0m\u001b[0m\n\u001b[1;32m---> 39\u001b[1;33m     \u001b[0mnbrpage\u001b[0m \u001b[1;33m=\u001b[0m \u001b[0mdriver\u001b[0m\u001b[1;33m.\u001b[0m\u001b[0mfind_element\u001b[0m\u001b[1;33m(\u001b[0m\u001b[0mBy\u001b[0m\u001b[1;33m.\u001b[0m\u001b[0mXPATH\u001b[0m\u001b[1;33m,\u001b[0m \u001b[1;34m'//*[@id=\"details\"]/div[1]/span[2]'\u001b[0m\u001b[1;33m)\u001b[0m\u001b[1;33m.\u001b[0m\u001b[0mtext\u001b[0m\u001b[1;33m\u001b[0m\u001b[1;33m\u001b[0m\u001b[0m\n\u001b[0m\u001b[0;32m     40\u001b[0m     \u001b[0mdatepublication\u001b[0m \u001b[1;33m=\u001b[0m \u001b[0mdriver\u001b[0m\u001b[1;33m.\u001b[0m\u001b[0mfind_element\u001b[0m\u001b[1;33m(\u001b[0m\u001b[0mBy\u001b[0m\u001b[1;33m.\u001b[0m\u001b[0mXPATH\u001b[0m\u001b[1;33m,\u001b[0m \u001b[1;34m'//*[@id=\"details\"]/div[2]'\u001b[0m\u001b[1;33m)\u001b[0m\u001b[1;33m.\u001b[0m\u001b[0mtext\u001b[0m\u001b[1;33m\u001b[0m\u001b[1;33m\u001b[0m\u001b[0m\n\u001b[0;32m     41\u001b[0m     \u001b[0misbn\u001b[0m \u001b[1;33m=\u001b[0m \u001b[0mdriver\u001b[0m\u001b[1;33m.\u001b[0m\u001b[0mfind_element\u001b[0m\u001b[1;33m(\u001b[0m\u001b[0mBy\u001b[0m\u001b[1;33m.\u001b[0m\u001b[0mXPATH\u001b[0m\u001b[1;33m,\u001b[0m \u001b[1;34m'//*[@id=\"bookDataBox\"]/div[2]/div[2]'\u001b[0m\u001b[1;33m)\u001b[0m\u001b[1;33m.\u001b[0m\u001b[0mtext\u001b[0m\u001b[1;33m\u001b[0m\u001b[1;33m\u001b[0m\u001b[0m\n",
      "\u001b[1;32m~\\anaconda3\\lib\\site-packages\\selenium\\webdriver\\remote\\webdriver.py\u001b[0m in \u001b[0;36mfind_element\u001b[1;34m(self, by, value)\u001b[0m\n\u001b[0;32m    854\u001b[0m             \u001b[0mvalue\u001b[0m \u001b[1;33m=\u001b[0m \u001b[1;34m'[name=\"%s\"]'\u001b[0m \u001b[1;33m%\u001b[0m \u001b[0mvalue\u001b[0m\u001b[1;33m\u001b[0m\u001b[1;33m\u001b[0m\u001b[0m\n\u001b[0;32m    855\u001b[0m \u001b[1;33m\u001b[0m\u001b[0m\n\u001b[1;32m--> 856\u001b[1;33m         return self.execute(Command.FIND_ELEMENT, {\n\u001b[0m\u001b[0;32m    857\u001b[0m             \u001b[1;34m'using'\u001b[0m\u001b[1;33m:\u001b[0m \u001b[0mby\u001b[0m\u001b[1;33m,\u001b[0m\u001b[1;33m\u001b[0m\u001b[1;33m\u001b[0m\u001b[0m\n\u001b[0;32m    858\u001b[0m             'value': value})['value']\n",
      "\u001b[1;32m~\\anaconda3\\lib\\site-packages\\selenium\\webdriver\\remote\\webdriver.py\u001b[0m in \u001b[0;36mexecute\u001b[1;34m(self, driver_command, params)\u001b[0m\n\u001b[0;32m    427\u001b[0m         \u001b[0mresponse\u001b[0m \u001b[1;33m=\u001b[0m \u001b[0mself\u001b[0m\u001b[1;33m.\u001b[0m\u001b[0mcommand_executor\u001b[0m\u001b[1;33m.\u001b[0m\u001b[0mexecute\u001b[0m\u001b[1;33m(\u001b[0m\u001b[0mdriver_command\u001b[0m\u001b[1;33m,\u001b[0m \u001b[0mparams\u001b[0m\u001b[1;33m)\u001b[0m\u001b[1;33m\u001b[0m\u001b[1;33m\u001b[0m\u001b[0m\n\u001b[0;32m    428\u001b[0m         \u001b[1;32mif\u001b[0m \u001b[0mresponse\u001b[0m\u001b[1;33m:\u001b[0m\u001b[1;33m\u001b[0m\u001b[1;33m\u001b[0m\u001b[0m\n\u001b[1;32m--> 429\u001b[1;33m             \u001b[0mself\u001b[0m\u001b[1;33m.\u001b[0m\u001b[0merror_handler\u001b[0m\u001b[1;33m.\u001b[0m\u001b[0mcheck_response\u001b[0m\u001b[1;33m(\u001b[0m\u001b[0mresponse\u001b[0m\u001b[1;33m)\u001b[0m\u001b[1;33m\u001b[0m\u001b[1;33m\u001b[0m\u001b[0m\n\u001b[0m\u001b[0;32m    430\u001b[0m             response['value'] = self._unwrap_value(\n\u001b[0;32m    431\u001b[0m                 response.get('value', None))\n",
      "\u001b[1;32m~\\anaconda3\\lib\\site-packages\\selenium\\webdriver\\remote\\errorhandler.py\u001b[0m in \u001b[0;36mcheck_response\u001b[1;34m(self, response)\u001b[0m\n\u001b[0;32m    241\u001b[0m                 \u001b[0malert_text\u001b[0m \u001b[1;33m=\u001b[0m \u001b[0mvalue\u001b[0m\u001b[1;33m[\u001b[0m\u001b[1;34m'alert'\u001b[0m\u001b[1;33m]\u001b[0m\u001b[1;33m.\u001b[0m\u001b[0mget\u001b[0m\u001b[1;33m(\u001b[0m\u001b[1;34m'text'\u001b[0m\u001b[1;33m)\u001b[0m\u001b[1;33m\u001b[0m\u001b[1;33m\u001b[0m\u001b[0m\n\u001b[0;32m    242\u001b[0m             \u001b[1;32mraise\u001b[0m \u001b[0mexception_class\u001b[0m\u001b[1;33m(\u001b[0m\u001b[0mmessage\u001b[0m\u001b[1;33m,\u001b[0m \u001b[0mscreen\u001b[0m\u001b[1;33m,\u001b[0m \u001b[0mstacktrace\u001b[0m\u001b[1;33m,\u001b[0m \u001b[0malert_text\u001b[0m\u001b[1;33m)\u001b[0m  \u001b[1;31m# type: ignore[call-arg]  # mypy is not smart enough here\u001b[0m\u001b[1;33m\u001b[0m\u001b[1;33m\u001b[0m\u001b[0m\n\u001b[1;32m--> 243\u001b[1;33m         \u001b[1;32mraise\u001b[0m \u001b[0mexception_class\u001b[0m\u001b[1;33m(\u001b[0m\u001b[0mmessage\u001b[0m\u001b[1;33m,\u001b[0m \u001b[0mscreen\u001b[0m\u001b[1;33m,\u001b[0m \u001b[0mstacktrace\u001b[0m\u001b[1;33m)\u001b[0m\u001b[1;33m\u001b[0m\u001b[1;33m\u001b[0m\u001b[0m\n\u001b[0m",
      "\u001b[1;31mNoSuchElementException\u001b[0m: Message: no such element: Unable to locate element: {\"method\":\"xpath\",\"selector\":\"//*[@id=\"details\"]/div[1]/span[2]\"}\n  (Session info: chrome=107.0.5304.107)\nStacktrace:\nBacktrace:\n\tOrdinal0 [0x0107ACD3+2075859]\n\tOrdinal0 [0x0100EE61+1633889]\n\tOrdinal0 [0x00F0B7BD+571325]\n\tOrdinal0 [0x00F3AC2F+764975]\n\tOrdinal0 [0x00F3AE1B+765467]\n\tOrdinal0 [0x00F6D0F2+970994]\n\tOrdinal0 [0x00F57364+881508]\n\tOrdinal0 [0x00F6B56A+963946]\n\tOrdinal0 [0x00F57136+880950]\n\tOrdinal0 [0x00F2FEFD+720637]\n\tOrdinal0 [0x00F30F3F+724799]\n\tGetHandleVerifier [0x0132EED2+2769538]\n\tGetHandleVerifier [0x01320D95+2711877]\n\tGetHandleVerifier [0x0110A03A+521194]\n\tGetHandleVerifier [0x01108DA0+516432]\n\tOrdinal0 [0x0101682C+1665068]\n\tOrdinal0 [0x0101B128+1683752]\n\tOrdinal0 [0x0101B215+1683989]\n\tOrdinal0 [0x01026484+1729668]\n\tBaseThreadInitThunk [0x76236939+25]\n\tRtlGetFullPathName_UEx [0x77788FD2+1218]\n\tRtlGetFullPathName_UEx [0x77788F9D+1165]\n"
     ]
    }
   ],
   "source": [
    "# Permet de récupérer le nombre de livres présent sur une page dans l'objectif de faire une boucle dessus\n",
    "list_book = driver.find_elements(By.CLASS_NAME, \"bookTitle\")\n",
    "\n",
    "for i in range(len(list_book)):\n",
    "    time.sleep(3)\n",
    "    try:\n",
    "        driver.find_element(By.XPATH, \"/html/body/div[3]/div/div/div[1]/button\").click()\n",
    "    except:\n",
    "        try:\n",
    "            driver.find_element(By.XPATH, \"/html/body/div[3]/div/div[1]/div/div/button\").click()\n",
    "        except:\n",
    "            pass\n",
    "   \n",
    "    driver.find_element(By.XPATH,'/html/body/div[2]/div[3]/div[1]/div[2]/div[3]/div[6]/table/tbody/tr['+ str(i+1) +']/td[3]/a').click()\n",
    "    \n",
    "    time.sleep(3)\n",
    "    try:\n",
    "        driver.find_element(By.XPATH, \"/html/body/div[3]/div/div/div[1]/button\").click()\n",
    "    except:\n",
    "        try:\n",
    "            driver.find_element(By.XPATH, \"/html/body/div[3]/div/div[1]/div/div/button\").click()\n",
    "        except:\n",
    "            pass\n",
    "        \n",
    "        \n",
    "    try: \n",
    "        nom = driver.find_element(By.XPATH, '//*[@id=\"bookTitle\"]').text\n",
    "    except:\n",
    "        try : \n",
    "            nom = driver.find_element(By.XPATH, \"//*[@id='__next']/div/main/div[1]/div[2]/div[2]/div[1]/div/h1\").text\n",
    "        except :\n",
    "            nom = driver.find_element(By.XPATH, \"//*[@id='__next']/div/main/div[1]/div[2]/div[1]/div[1]/div[1]/h1\").text\n",
    "    print(nom)\n",
    "    \n",
    "    auteur = driver.find_element(By.XPATH, '//*[@id=\"bookAuthors\"]/span[2]/div/a/span').text\n",
    "    rating = driver.find_element(By.XPATH, '//*[@id=\"bookMeta\"]/span[2]').text\n",
    "    nbrrating = driver.find_element(By.XPATH, '//*[@id=\"bookMeta\"]/span[2]').text\n",
    "    description = driver.find_element(By.XPATH, '//*[@id=\"description\"]').text\n",
    "    nbrpage = driver.find_element(By.XPATH, '//*[@id=\"details\"]/div[1]/span[2]').text\n",
    "    datepublication = driver.find_element(By.XPATH, '//*[@id=\"details\"]/div[2]').text\n",
    "    isbn = driver.find_element(By.XPATH, '/html/body/div[2]/div[3]/div[1]/div[2]/div[2]/div[1]/div[2]/div[5]/div[3]/div[1]/div[2]/div[2]').text\n",
    "    editionlangage = driver.find_element(By.XPATH, '//*[@id=\"bookDataBox\"]/div[3]/div[2]').text\n",
    "    nbrreview = driver.find_element(By.XPATH, '//*[@id=\"bookMeta\"]/a[3]').text\n",
    "    #genre = driver.find_element(By.XPATH, '/html/body/div[2]/div[3]/div[1]/div[2]/div[3]/div[6]/div/div[2]/div').text\n",
    "    #print(genre)\n",
    "    \n",
    "    book_dict[\"Title\"] = nom\n",
    "    book_dict[\"Author\"] = auteur\n",
    "    book_dict[\"Rating\"] = rating\n",
    "    book_dict[\"NbRating\"] = nbrrating\n",
    "    book_dict[\"Description\"] = description\n",
    "    book_dict[\"NbPage\"] = nbrpage\n",
    "    book_dict[\"DatePub\"] = datepublication\n",
    "    book_dict[\"ISBN\"] = isbn\n",
    "    book_dict[\"EdiLang\"] = editionlangage\n",
    "    book_dict[\"NbRev\"] = nbrreview\n",
    "                \n",
    "    results.append(book_dict)\n",
    "    driver.back()\n",
    "#pour passer d'une page à une autre\n",
    "#faut récuperer chaque informations* dans chaque livres avec :\n",
    "\n",
    "#**Informations suivantes : Le titre du livre, l'auteur, le résumé du livre ... en gros pratiquement toute la page du livre\n",
    "\n",
    "#driver.findElementsByClassName(\"className\");       /// \n",
    "#driver.findElementsByCssSelector(\".className\");\n",
    "#driver.findElementsById(\"elementId\");\n",
    "#driver.findElementsByLinkText(\"linkText\");\n",
    "#driver.findElementsByName(\"elementName\");\n",
    "#driver.findElementsByPartialLinkText(\"partialText\");\n",
    "#driver.findElementsByTagName(\"elementTagName\");\n",
    "#driver.findElementsByXPath(\"xPath\");\n"
   ]
  },
  {
   "cell_type": "code",
   "execution_count": 10,
   "id": "ffbe5c32-9c08-4ae8-b730-88bbd7dd7349",
   "metadata": {
    "tags": []
   },
   "outputs": [
    {
     "data": {
      "text/plain": [
       "[{'Title': 'American Gods',\n",
       "  'Author': 'Neil Gaiman',\n",
       "  'Rating': '4.11',\n",
       "  'NbRating': '4.11',\n",
       "  'Description': \"Days before his release from prison, Shadow's wife, Laura, dies in a mysterious car crash. Numbly, he makes his way back home. On the plane, he encounters the enigmatic Mr Wednesday, who claims to be a refugee from a distant war, a former god and the king of America.\\n\\nTogether they embark on a profoundly strange journey across the heart of the USA, whilst all around them a\\n\\n\\n\\n...more\",\n",
       "  'NbPage': 'Tenth Anniversary Edition',\n",
       "  'DatePub': 'Published June 21st 2011 by William Morrow (first published June 19th 2001)',\n",
       "  'ISBN': '',\n",
       "  'EdiLang': '',\n",
       "  'NbRev': '43,450 reviews'},\n",
       " {'Title': 'American Gods',\n",
       "  'Author': 'Neil Gaiman',\n",
       "  'Rating': '4.11',\n",
       "  'NbRating': '4.11',\n",
       "  'Description': \"Days before his release from prison, Shadow's wife, Laura, dies in a mysterious car crash. Numbly, he makes his way back home. On the plane, he encounters the enigmatic Mr Wednesday, who claims to be a refugee from a distant war, a former god and the king of America.\\n\\nTogether they embark on a profoundly strange journey across the heart of the USA, whilst all around them a\\n\\n\\n\\n...more\",\n",
       "  'NbPage': 'Tenth Anniversary Edition',\n",
       "  'DatePub': 'Published June 21st 2011 by William Morrow (first published June 19th 2001)',\n",
       "  'ISBN': '',\n",
       "  'EdiLang': '',\n",
       "  'NbRev': '43,450 reviews'},\n",
       " {'Title': 'American Gods',\n",
       "  'Author': 'Neil Gaiman',\n",
       "  'Rating': '4.11',\n",
       "  'NbRating': '4.11',\n",
       "  'Description': \"Days before his release from prison, Shadow's wife, Laura, dies in a mysterious car crash. Numbly, he makes his way back home. On the plane, he encounters the enigmatic Mr Wednesday, who claims to be a refugee from a distant war, a former god and the king of America.\\n\\nTogether they embark on a profoundly strange journey across the heart of the USA, whilst all around them a\\n\\n\\n\\n...more\",\n",
       "  'NbPage': 'Tenth Anniversary Edition',\n",
       "  'DatePub': 'Published June 21st 2011 by William Morrow (first published June 19th 2001)',\n",
       "  'ISBN': '',\n",
       "  'EdiLang': '',\n",
       "  'NbRev': '43,450 reviews'},\n",
       " {'Title': 'American Gods',\n",
       "  'Author': 'Neil Gaiman',\n",
       "  'Rating': '4.11',\n",
       "  'NbRating': '4.11',\n",
       "  'Description': \"Days before his release from prison, Shadow's wife, Laura, dies in a mysterious car crash. Numbly, he makes his way back home. On the plane, he encounters the enigmatic Mr Wednesday, who claims to be a refugee from a distant war, a former god and the king of America.\\n\\nTogether they embark on a profoundly strange journey across the heart of the USA, whilst all around them a\\n\\n\\n\\n...more\",\n",
       "  'NbPage': 'Tenth Anniversary Edition',\n",
       "  'DatePub': 'Published June 21st 2011 by William Morrow (first published June 19th 2001)',\n",
       "  'ISBN': '',\n",
       "  'EdiLang': '',\n",
       "  'NbRev': '43,450 reviews'},\n",
       " {'Title': 'American Gods',\n",
       "  'Author': 'Neil Gaiman',\n",
       "  'Rating': '4.11',\n",
       "  'NbRating': '4.11',\n",
       "  'Description': \"Days before his release from prison, Shadow's wife, Laura, dies in a mysterious car crash. Numbly, he makes his way back home. On the plane, he encounters the enigmatic Mr Wednesday, who claims to be a refugee from a distant war, a former god and the king of America.\\n\\nTogether they embark on a profoundly strange journey across the heart of the USA, whilst all around them a\\n\\n\\n\\n...more\",\n",
       "  'NbPage': 'Tenth Anniversary Edition',\n",
       "  'DatePub': 'Published June 21st 2011 by William Morrow (first published June 19th 2001)',\n",
       "  'ISBN': '',\n",
       "  'EdiLang': '',\n",
       "  'NbRev': '43,450 reviews'}]"
      ]
     },
     "execution_count": 10,
     "metadata": {},
     "output_type": "execute_result"
    }
   ],
   "source": [
    "results"
   ]
  },
  {
   "cell_type": "code",
   "execution_count": 11,
   "id": "488dced9-b421-475c-9a21-340575da9aaf",
   "metadata": {},
   "outputs": [],
   "source": [
    "df = pd.DataFrame(results)"
   ]
  },
  {
   "cell_type": "code",
   "execution_count": null,
   "id": "c5dec277-f5c8-4367-b440-b75ff71dfe9b",
   "metadata": {},
   "outputs": [],
   "source": [
    "driver.quit()"
   ]
  },
  {
   "cell_type": "code",
   "execution_count": 12,
   "id": "11d4fada-2e94-42cd-a6c5-080c18e714e4",
   "metadata": {},
   "outputs": [
    {
     "data": {
      "text/html": [
       "<div>\n",
       "<style scoped>\n",
       "    .dataframe tbody tr th:only-of-type {\n",
       "        vertical-align: middle;\n",
       "    }\n",
       "\n",
       "    .dataframe tbody tr th {\n",
       "        vertical-align: top;\n",
       "    }\n",
       "\n",
       "    .dataframe thead th {\n",
       "        text-align: right;\n",
       "    }\n",
       "</style>\n",
       "<table border=\"1\" class=\"dataframe\">\n",
       "  <thead>\n",
       "    <tr style=\"text-align: right;\">\n",
       "      <th></th>\n",
       "      <th>Title</th>\n",
       "      <th>Author</th>\n",
       "      <th>Rating</th>\n",
       "      <th>NbRating</th>\n",
       "      <th>Description</th>\n",
       "      <th>NbPage</th>\n",
       "      <th>DatePub</th>\n",
       "      <th>ISBN</th>\n",
       "      <th>EdiLang</th>\n",
       "      <th>NbRev</th>\n",
       "    </tr>\n",
       "  </thead>\n",
       "  <tbody>\n",
       "    <tr>\n",
       "      <th>0</th>\n",
       "      <td>American Gods</td>\n",
       "      <td>Neil Gaiman</td>\n",
       "      <td>4.11</td>\n",
       "      <td>4.11</td>\n",
       "      <td>Days before his release from prison, Shadow's ...</td>\n",
       "      <td>Tenth Anniversary Edition</td>\n",
       "      <td>Published June 21st 2011 by William Morrow (fi...</td>\n",
       "      <td></td>\n",
       "      <td></td>\n",
       "      <td>43,450 reviews</td>\n",
       "    </tr>\n",
       "    <tr>\n",
       "      <th>1</th>\n",
       "      <td>American Gods</td>\n",
       "      <td>Neil Gaiman</td>\n",
       "      <td>4.11</td>\n",
       "      <td>4.11</td>\n",
       "      <td>Days before his release from prison, Shadow's ...</td>\n",
       "      <td>Tenth Anniversary Edition</td>\n",
       "      <td>Published June 21st 2011 by William Morrow (fi...</td>\n",
       "      <td></td>\n",
       "      <td></td>\n",
       "      <td>43,450 reviews</td>\n",
       "    </tr>\n",
       "    <tr>\n",
       "      <th>2</th>\n",
       "      <td>American Gods</td>\n",
       "      <td>Neil Gaiman</td>\n",
       "      <td>4.11</td>\n",
       "      <td>4.11</td>\n",
       "      <td>Days before his release from prison, Shadow's ...</td>\n",
       "      <td>Tenth Anniversary Edition</td>\n",
       "      <td>Published June 21st 2011 by William Morrow (fi...</td>\n",
       "      <td></td>\n",
       "      <td></td>\n",
       "      <td>43,450 reviews</td>\n",
       "    </tr>\n",
       "    <tr>\n",
       "      <th>3</th>\n",
       "      <td>American Gods</td>\n",
       "      <td>Neil Gaiman</td>\n",
       "      <td>4.11</td>\n",
       "      <td>4.11</td>\n",
       "      <td>Days before his release from prison, Shadow's ...</td>\n",
       "      <td>Tenth Anniversary Edition</td>\n",
       "      <td>Published June 21st 2011 by William Morrow (fi...</td>\n",
       "      <td></td>\n",
       "      <td></td>\n",
       "      <td>43,450 reviews</td>\n",
       "    </tr>\n",
       "    <tr>\n",
       "      <th>4</th>\n",
       "      <td>American Gods</td>\n",
       "      <td>Neil Gaiman</td>\n",
       "      <td>4.11</td>\n",
       "      <td>4.11</td>\n",
       "      <td>Days before his release from prison, Shadow's ...</td>\n",
       "      <td>Tenth Anniversary Edition</td>\n",
       "      <td>Published June 21st 2011 by William Morrow (fi...</td>\n",
       "      <td></td>\n",
       "      <td></td>\n",
       "      <td>43,450 reviews</td>\n",
       "    </tr>\n",
       "  </tbody>\n",
       "</table>\n",
       "</div>"
      ],
      "text/plain": [
       "           Title       Author Rating NbRating  \\\n",
       "0  American Gods  Neil Gaiman   4.11     4.11   \n",
       "1  American Gods  Neil Gaiman   4.11     4.11   \n",
       "2  American Gods  Neil Gaiman   4.11     4.11   \n",
       "3  American Gods  Neil Gaiman   4.11     4.11   \n",
       "4  American Gods  Neil Gaiman   4.11     4.11   \n",
       "\n",
       "                                         Description  \\\n",
       "0  Days before his release from prison, Shadow's ...   \n",
       "1  Days before his release from prison, Shadow's ...   \n",
       "2  Days before his release from prison, Shadow's ...   \n",
       "3  Days before his release from prison, Shadow's ...   \n",
       "4  Days before his release from prison, Shadow's ...   \n",
       "\n",
       "                      NbPage  \\\n",
       "0  Tenth Anniversary Edition   \n",
       "1  Tenth Anniversary Edition   \n",
       "2  Tenth Anniversary Edition   \n",
       "3  Tenth Anniversary Edition   \n",
       "4  Tenth Anniversary Edition   \n",
       "\n",
       "                                             DatePub ISBN EdiLang  \\\n",
       "0  Published June 21st 2011 by William Morrow (fi...                \n",
       "1  Published June 21st 2011 by William Morrow (fi...                \n",
       "2  Published June 21st 2011 by William Morrow (fi...                \n",
       "3  Published June 21st 2011 by William Morrow (fi...                \n",
       "4  Published June 21st 2011 by William Morrow (fi...                \n",
       "\n",
       "            NbRev  \n",
       "0  43,450 reviews  \n",
       "1  43,450 reviews  \n",
       "2  43,450 reviews  \n",
       "3  43,450 reviews  \n",
       "4  43,450 reviews  "
      ]
     },
     "execution_count": 12,
     "metadata": {},
     "output_type": "execute_result"
    }
   ],
   "source": [
    "df"
   ]
  },
  {
   "cell_type": "code",
   "execution_count": null,
   "id": "a1308709-c6b8-49bc-b401-a3563a62f763",
   "metadata": {},
   "outputs": [],
   "source": []
  }
 ],
 "metadata": {
  "kernelspec": {
   "display_name": "Python 3 (ipykernel)",
   "language": "python",
   "name": "python3"
  },
  "language_info": {
   "codemirror_mode": {
    "name": "ipython",
    "version": 3
   },
   "file_extension": ".py",
   "mimetype": "text/x-python",
   "name": "python",
   "nbconvert_exporter": "python",
   "pygments_lexer": "ipython3",
   "version": "3.9.13"
  }
 },
 "nbformat": 4,
 "nbformat_minor": 5
}
